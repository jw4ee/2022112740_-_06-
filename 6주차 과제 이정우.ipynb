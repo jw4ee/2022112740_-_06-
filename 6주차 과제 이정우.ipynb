{
 "cells": [
  {
   "cell_type": "code",
   "execution_count": 2,
   "id": "17617c9d",
   "metadata": {},
   "outputs": [
    {
     "name": "stdout",
     "output_type": "stream",
     "text": [
      "***********************\n",
      "***********************\n",
      "***********************\n",
      "***********************\n",
      "***********************\n",
      "***********************\n"
     ]
    }
   ],
   "source": [
    "def print_star():\n",
    "    print('***********************')\n",
    "\n",
    "print_star()\n",
    "print_star()\n",
    "print_star()\n",
    "print_star()\n",
    "print_star()\n",
    "print_star()"
   ]
  },
  {
   "cell_type": "code",
   "execution_count": 3,
   "id": "325c81d4",
   "metadata": {},
   "outputs": [
    {
     "name": "stdout",
     "output_type": "stream",
     "text": [
      "***********************\n",
      "***********************\n",
      "***********************\n",
      "***********************\n",
      "***********************\n",
      "***********************\n",
      "***********************\n",
      "***********************\n",
      "***********************\n",
      "***********************\n"
     ]
    }
   ],
   "source": [
    "def print_star3():\n",
    "    print('***********************')\n",
    "    print('***********************')\n",
    "    print('***********************')\n",
    "    print('***********************')\n",
    "    print('***********************')\n",
    "\n",
    "print_star3()\n",
    "print_star3()\n"
   ]
  },
  {
   "cell_type": "code",
   "execution_count": 5,
   "id": "3a010bd7",
   "metadata": {},
   "outputs": [
    {
     "name": "stdout",
     "output_type": "stream",
     "text": [
      "########################\n",
      "***********************\n",
      "++++++++++++++++++++++++\n",
      "++++++++++++++++++++++++\n",
      "***********************\n",
      "########################\n"
     ]
    }
   ],
   "source": [
    "def print_hash():\n",
    "    print('########################')\n",
    "    \n",
    "def print_star():\n",
    "    print('***********************')\n",
    "    \n",
    "def print_plus():\n",
    "    print('++++++++++++++++++++++++')\n",
    "  \n",
    "\n",
    "\n",
    "print_hash()\n",
    "print_star()\n",
    "print_plus()\n",
    "print_plus()\n",
    "print_star()\n",
    "print_hash()\n"
   ]
  },
  {
   "cell_type": "code",
   "execution_count": 12,
   "id": "225c317c",
   "metadata": {},
   "outputs": [
    {
     "name": "stdout",
     "output_type": "stream",
     "text": [
      "****************\n",
      "****************\n",
      "****************\n",
      "****************\n",
      "****************\n",
      "****************\n",
      "****************\n",
      "****************\n",
      "****************\n",
      "****************\n",
      "################\n",
      "################\n",
      "################\n",
      "################\n",
      "################\n",
      "################\n",
      "0 ################\n",
      "1 ################\n",
      "2 ################\n",
      "3 ################\n",
      "4 ################\n",
      "5 ################\n"
     ]
    }
   ],
   "source": [
    "def print_star(n):\n",
    "    for i in range(n):\n",
    "        print('****************')\n",
    "    \n",
    "print_star(10)\n",
    "\n",
    "def print_hash(n):\n",
    "    for i in range(n):\n",
    "        print('################')\n",
    "\n",
    "print_hash(6)\n",
    "\n",
    "def print_hash(n):\n",
    "    for i in range(n):\n",
    "        print(i, '################')\n",
    "\n",
    "print_hash(6)\n",
    "        \n"
   ]
  },
  {
   "cell_type": "code",
   "execution_count": 17,
   "id": "de58dfea",
   "metadata": {},
   "outputs": [
    {
     "name": "stdout",
     "output_type": "stream",
     "text": [
      "10 와 20 의 차는 -10 입니다.\n",
      "10 와 20 의 곱은 200 입니다.\n"
     ]
    }
   ],
   "source": [
    "def print_sub(a, b):\n",
    "    result = a - b\n",
    "    print(a,'와', b, '의 차는', result, '입니다.')\n",
    "\n",
    "print_sub(10, 20)\n",
    "\n",
    "def print_mult(a, b):\n",
    "    result = a * b\n",
    "    print(a,'와', b, '의 곱은', result, '입니다.')\n",
    "\n",
    "print_mult(10, 20)\n",
    "\n"
   ]
  },
  {
   "cell_type": "code",
   "execution_count": 21,
   "id": "1633fccb",
   "metadata": {},
   "outputs": [
    {
     "name": "stdout",
     "output_type": "stream",
     "text": [
      "해는 3.0 또는 -7.0\n",
      "해는 4.0 또는 2.0\n",
      "밑변 10 ,높이 20 인 삼각형의 면적은 : 100.0\n"
     ]
    }
   ],
   "source": [
    "def print_root(a, b, c):\n",
    "    r1 = (-b + (b ** 2 - 4 * a * c) ** 0.5) / (2 * a) \n",
    "    r2 = (-b - (b ** 2 - 4 * a * c) ** 0.5) / (2 * a) \n",
    "    print('해는', r1, '또는', r2)\n",
    "\n",
    "print_root(1, 4, -21)\n",
    "print_root(1, -6, 8)\n",
    "\n",
    "def print_area(width, height):\n",
    "    area = width * height / 2\n",
    "    print('밑변', width, ',높이', height, '인 삼각형의 면적은 :', area)\n",
    "    \n",
    "print_area(10 ,20)"
   ]
  },
  {
   "cell_type": "code",
   "execution_count": 29,
   "id": "8730fc50",
   "metadata": {},
   "outputs": [
    {
     "name": "stdout",
     "output_type": "stream",
     "text": [
      "반지름 10 인 원의 면적은 314.0 ,원의 둘레는 62.800000000000004\n"
     ]
    }
   ],
   "source": [
    "def circle_area_circum(radius):\n",
    "    area = radius * radius * 3.14\n",
    "    circum = 2 * 3.14 * radius\n",
    "    return area, circum\n",
    "\n",
    "radius = 10\n",
    "\n",
    "a, b = circle_area_circum(radius)\n",
    "\n",
    "print('반지름', radius, '인 원의 면적은', a, ',원의 둘레는', b)"
   ]
  },
  {
   "cell_type": "code",
   "execution_count": 10,
   "id": "0a888f38",
   "metadata": {},
   "outputs": [
    {
     "name": "stdout",
     "output_type": "stream",
     "text": [
      "3 6 9 12\n",
      "2 4 6 8 10\n"
     ]
    }
   ],
   "source": [
    "def multiplies(n, m):\n",
    "    a = []\n",
    "    for i in range(m):\n",
    "        a.append((i+1)*n)    \n",
    "    return a\n",
    "    \n",
    "r1, r2, r3, r4 = multiplies(3, 4)\n",
    "print(r1, r2, r3, r4)\n",
    "\n",
    "r1, r2, r3, r4, r5 = multiplies(2, 5)\n",
    "print(r1, r2, r3, r4, r5)"
   ]
  },
  {
   "cell_type": "code",
   "execution_count": 34,
   "id": "1c547b64",
   "metadata": {},
   "outputs": [
    {
     "name": "stdout",
     "output_type": "stream",
     "text": [
      "Dr. Gildong Hong\n",
      "Dr. Gildong Hong\n"
     ]
    }
   ],
   "source": [
    "def print_name(first_name, last_name, honorifics):\n",
    "    print(honorifics, first_name, last_name)\n",
    "    \n",
    "print_name(first_name = 'Gildong', last_name = 'Hong', honorifics = 'Dr.')\n",
    "\n",
    "print_name('Gildong', 'Hong', 'Dr.')"
   ]
  },
  {
   "cell_type": "code",
   "execution_count": 41,
   "id": "310c95a3",
   "metadata": {},
   "outputs": [
    {
     "name": "stdout",
     "output_type": "stream",
     "text": [
      "3 개의 인자 (10, 20, 30)\n",
      "합계 : 60 , 평균 : 20.0\n",
      "5 개의 인자 (10, 20, 30, 40, 50)\n",
      "합계 : 150 , 평균 : 30.0\n",
      "최솟값은 10\n"
     ]
    }
   ],
   "source": [
    "def sum_nums(*numbers):\n",
    "    sum = 0\n",
    "    tuple = numbers\n",
    "    print(len(numbers), '개의 인자', tuple)\n",
    "    \n",
    "    for i in numbers:\n",
    "        sum = sum + i\n",
    "        \n",
    "    average = sum / len(numbers)\n",
    "\n",
    "    print('합계 :', sum, ', 평균 :', average)\n",
    "    \n",
    "sum_nums(10 ,20 ,30)\n",
    "sum_nums(10 ,20, 30 ,40 ,50)\n",
    "\n",
    "def min_nums(*numbers):\n",
    "    for i in numbers:\n",
    "        min = i\n",
    "    \n",
    "    for i in numbers:\n",
    "        if i < min:\n",
    "            min = i\n",
    "            \n",
    "    print('최솟값은', min)\n",
    "            \n",
    "min_nums(20 ,40 ,50, 10)\n"
   ]
  },
  {
   "cell_type": "code",
   "execution_count": 3,
   "id": "181e1d68",
   "metadata": {},
   "outputs": [
    {
     "name": "stdout",
     "output_type": "stream",
     "text": [
      "당신의 이름을 입력해주세요 : 김철수\n",
      "나이를 입력해주세요 : 21\n",
      "직업을 입력해주세요 : 학생\n",
      "사는 곳을 입력해주세요 : 창원시\n",
      "당신의 이름은 김철수, 나이는 21살, 직업은 학생, 사는 곳은 창원시입니다.\n",
      "당신의 이름은 김철수 나이는 21 살, 직업은 학생 사는 곳은 창원시 입니다.\n"
     ]
    }
   ],
   "source": [
    "name = input('당신의 이름을 입력해주세요 : ')\n",
    "age = input('나이를 입력해주세요 : ')\n",
    "job = input('직업을 입력해주세요 : ')\n",
    "address = input('사는 곳을 입력해주세요 : ')\n",
    "\n",
    "print('당신의 이름은 {}, 나이는 {}살, 직업은 {}, 사는 곳은 {}입니다.'.format(name, age, job, address))\n",
    "print('당신의 이름은', name, '나이는', age, '살, 직업은', job, '사는 곳은', address, '입니다.')"
   ]
  },
  {
   "cell_type": "code",
   "execution_count": 4,
   "id": "2269a973",
   "metadata": {},
   "outputs": [
    {
     "data": {
      "text/plain": [
       "'A_B_C_D'"
      ]
     },
     "execution_count": 4,
     "metadata": {},
     "output_type": "execute_result"
    }
   ],
   "source": [
    "'_'.join('ABCD')"
   ]
  },
  {
   "cell_type": "code",
   "execution_count": 7,
   "id": "c45224d3",
   "metadata": {},
   "outputs": [
    {
     "data": {
      "text/plain": [
       "'My favorite thing is cartoons.'"
      ]
     },
     "execution_count": 7,
     "metadata": {},
     "output_type": "execute_result"
    }
   ],
   "source": [
    "s = 'My favorite thing is monsters.'\n",
    "t = s.replace('monsters', 'cartoons')\n",
    "t"
   ]
  },
  {
   "cell_type": "code",
   "execution_count": null,
   "id": "33e6c88e",
   "metadata": {},
   "outputs": [],
   "source": []
  }
 ],
 "metadata": {
  "kernelspec": {
   "display_name": "Python 3 (ipykernel)",
   "language": "python",
   "name": "python3"
  },
  "language_info": {
   "codemirror_mode": {
    "name": "ipython",
    "version": 3
   },
   "file_extension": ".py",
   "mimetype": "text/x-python",
   "name": "python",
   "nbconvert_exporter": "python",
   "pygments_lexer": "ipython3",
   "version": "3.9.12"
  }
 },
 "nbformat": 4,
 "nbformat_minor": 5
}
